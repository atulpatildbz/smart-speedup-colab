{
  "nbformat": 4,
  "nbformat_minor": 0,
  "metadata": {
    "colab": {
      "name": "smart-speedup.ipynb",
      "provenance": [],
      "collapsed_sections": [],
      "include_colab_link": true
    },
    "kernelspec": {
      "name": "python3",
      "display_name": "Python 3"
    }
  },
  "cells": [
    {
      "cell_type": "markdown",
      "metadata": {
        "id": "view-in-github",
        "colab_type": "text"
      },
      "source": [
        "<a href=\"https://colab.research.google.com/github/atulpatildbz/smart-speedup-colab/blob/master/smart_speedup.ipynb\" target=\"_parent\"><img src=\"https://colab.research.google.com/assets/colab-badge.svg\" alt=\"Open In Colab\"/></a>"
      ]
    },
    {
      "cell_type": "markdown",
      "metadata": {
        "id": "Pn0U7gB3WEBg",
        "colab_type": "text"
      },
      "source": [
        "mount the drive"
      ]
    },
    {
      "cell_type": "code",
      "metadata": {
        "id": "C1kG0LkTxw9E",
        "colab_type": "code",
        "colab": {}
      },
      "source": [
        "from google.colab import drive\n",
        "drive.mount('/gdrive', )\n",
        "%cd /gdrive"
      ],
      "execution_count": 0,
      "outputs": []
    },
    {
      "cell_type": "markdown",
      "metadata": {
        "id": "0GPHkQqpWJL5",
        "colab_type": "text"
      },
      "source": [
        "go to the directory"
      ]
    },
    {
      "cell_type": "code",
      "metadata": {
        "id": "x7Kn875izRJA",
        "colab_type": "code",
        "colab": {}
      },
      "source": [
        "%cd /gdrive/'My Drive'\n",
        "%ls"
      ],
      "execution_count": 0,
      "outputs": []
    },
    {
      "cell_type": "code",
      "metadata": {
        "id": "cAJLI9NyEYZ6",
        "colab_type": "code",
        "colab": {}
      },
      "source": [
        "!ffmpeg -i DaredevilS01E05_burned.mp4_output.mp4 -vf scale=-1:720 output.mp4"
      ],
      "execution_count": 0,
      "outputs": []
    },
    {
      "cell_type": "markdown",
      "metadata": {
        "id": "ZAKIYcw9bFlx",
        "colab_type": "text"
      },
      "source": [
        "extract sup file if any"
      ]
    },
    {
      "cell_type": "code",
      "metadata": {
        "id": "W11f6-3EbJqW",
        "colab_type": "code",
        "colab": {}
      },
      "source": [
        "!ffmpeg -i Dragon.Ball.Super.S04E11.1080p.Blu-Ray.10-Bit.Dual-Audio.TrueHD.x265-iAHD.mkv -map 0:3 -c:s copy \"Dragon.Ball.Super.S04E11.1080p.Blu-Ray.10-Bit.Dual-Audio.TrueHD.x265-iAHD.sup\"\n",
        "!ffmpeg -i Dragon.Ball.Super.S04E12.1080p.Blu-Ray.10-Bit.Dual-Audio.TrueHD.x265-iAHD.mkv -map 0:3 -c:s copy \"Dragon.Ball.Super.S04E12.1080p.Blu-Ray.10-Bit.Dual-Audio.TrueHD.x265-iAHD.sup\""
      ],
      "execution_count": 0,
      "outputs": []
    },
    {
      "cell_type": "code",
      "metadata": {
        "id": "PwW5QoUezhVi",
        "colab_type": "code",
        "colab": {}
      },
      "source": [
        "!python sup2srt.py Dragon.Ball.Super.S04E11.1080p.Blu-Ray.10-Bit.Dual-Audio.TrueHD.x265-iAHD.sup\n",
        "!python sup2srt.py Dragon.Ball.Super.S04E12.1080p.Blu-Ray.10-Bit.Dual-Audio.TrueHD.x265-iAHD.sup"
      ],
      "execution_count": 0,
      "outputs": []
    },
    {
      "cell_type": "markdown",
      "metadata": {
        "id": "55Lgu3QBYWaS",
        "colab_type": "text"
      },
      "source": [
        "install dependencies"
      ]
    },
    {
      "cell_type": "code",
      "metadata": {
        "id": "i3lFGPMP0Ka0",
        "colab_type": "code",
        "colab": {}
      },
      "source": [
        "!sudo apt install tesseract-ocr\n",
        "!pip install pysrt\n",
        "!pip install pytesseract"
      ],
      "execution_count": 0,
      "outputs": []
    },
    {
      "cell_type": "markdown",
      "metadata": {
        "id": "EL0pFaR4bLWQ",
        "colab_type": "text"
      },
      "source": [
        "ffprobe"
      ]
    },
    {
      "cell_type": "code",
      "metadata": {
        "colab_type": "code",
        "id": "XcavIo3y0Kwe",
        "colab": {}
      },
      "source": [
        "!ffprobe DaredevilS01E05_burned.mp4_output.mp4"
      ],
      "execution_count": 0,
      "outputs": []
    },
    {
      "cell_type": "code",
      "metadata": {
        "id": "z8lSD9UTj9Xn",
        "colab_type": "code",
        "colab": {}
      },
      "source": [
        "!ffprobe -v error -select_streams v:0 -show_entries stream=width,height -of csv=s=x:p=0 S04E28.mkv_output.mp4"
      ],
      "execution_count": 0,
      "outputs": []
    },
    {
      "cell_type": "markdown",
      "metadata": {
        "id": "uoHk80yTbUOl",
        "colab_type": "text"
      },
      "source": [
        "run code to extract srt from sup file"
      ]
    },
    {
      "cell_type": "code",
      "metadata": {
        "id": "BpkfmvmNd7U5",
        "colab_type": "code",
        "colab": {}
      },
      "source": [
        "!python sup2srt.py 07.sup"
      ],
      "execution_count": 0,
      "outputs": []
    },
    {
      "cell_type": "markdown",
      "metadata": {
        "id": "yvaAQmnOeHQB",
        "colab_type": "text"
      },
      "source": [
        "code in case py file isn't there"
      ]
    },
    {
      "cell_type": "code",
      "metadata": {
        "id": "2lAocjSs1Ko3",
        "colab_type": "code",
        "colab": {}
      },
      "source": [
        "import sys, pytesseract\n",
        "from pgsreader import PGSReader\n",
        "from imagemaker import make_image\n",
        "\n",
        "from pysrt import SubRipFile, SubRipItem, SubRipTime\n",
        "\n",
        "from tqdm import tqdm\n",
        "\n",
        "supFile = '05.sup'\n",
        "pgs = PGSReader(supFile)\n",
        "\n",
        "srtFile = \".\".join(supFile.split('.')[:-1])+\".srt\"\n",
        "\n",
        "srt = SubRipFile()\n",
        "\n",
        "# get all DisplaySets that contain an image\n",
        "print(\"Loading DisplaySets...\")\n",
        "allsets = [ds for ds in tqdm(pgs.iter_displaysets())]\n",
        "\n",
        "print(f\"Running OCR on {len(allsets)} DisplaySets and building SRT file...\")\n",
        "subText = \"\"\n",
        "subStart = 0\n",
        "subIndex = 0"
      ],
      "execution_count": 0,
      "outputs": []
    },
    {
      "cell_type": "code",
      "metadata": {
        "id": "KbU3v5EG1mp8",
        "colab_type": "code",
        "colab": {}
      },
      "source": [
        "for ds in tqdm(allsets):\n",
        "    try:\n",
        "      if ds.has_image:\n",
        "          # get Palette Display Segment\n",
        "          pds = ds.pds[0]\n",
        "          # get Object Display Segment\n",
        "          ods = ds.ods[0]\n",
        "\n",
        "          img = make_image(ods, pds)\n",
        "          subText = pytesseract.image_to_string(img, lang='eng',  config='-l eng --oem 1 --psm 7')\n",
        "          subStart = ods.presentation_timestamp\n",
        "      else:\n",
        "          startTime = SubRipTime(milliseconds=int(subStart))\n",
        "          endTime = SubRipTime(milliseconds=int(ds.end[0].presentation_timestamp))\n",
        "          srt.append(SubRipItem(subIndex, startTime, endTime, subText))\n",
        "          subIndex += 1\n",
        "    except:\n",
        "      pass"
      ],
      "execution_count": 0,
      "outputs": []
    },
    {
      "cell_type": "code",
      "metadata": {
        "id": "0uGjQs4y2h_J",
        "colab_type": "code",
        "colab": {}
      },
      "source": [
        "print(f\"Done. SRT file saved as {srtFile}\")\n",
        "srt.save(srtFile, encoding='utf-8')"
      ],
      "execution_count": 0,
      "outputs": []
    },
    {
      "cell_type": "markdown",
      "metadata": {
        "id": "U9ybEcIDeMCm",
        "colab_type": "text"
      },
      "source": [
        "burn original sup in the video. Change the streams according to output from ffprobe\n",
        "https://trac.ffmpeg.org/wiki/HowToBurnSubtitlesIntoVideo\n",
        "\n",
        "for single audio, remove 0 after a:"
      ]
    },
    {
      "cell_type": "code",
      "metadata": {
        "id": "F52HEXfFeKGO",
        "colab_type": "code",
        "colab": {}
      },
      "source": [
        "!ffmpeg -i 12.mkv -filter_complex \"[0:v][0:s:0]overlay[v]\" -map \"[v]\" -map 0:a:0 -vcodec libx264 -crf 27 -preset ultrafast -c:a copy 12_burned.mp4\n",
        "!ffmpeg -i 13.mkv -filter_complex \"[0:v][0:s:0]overlay[v]\" -map \"[v]\" -map 0:a:0 -vcodec libx264 -crf 27 -preset ultrafast -c:a copy 13_burned.mp4"
      ],
      "execution_count": 0,
      "outputs": []
    },
    {
      "cell_type": "markdown",
      "metadata": {
        "id": "--WUsTKQfkdu",
        "colab_type": "text"
      },
      "source": [
        "run the main file. use all the appropriate options based on weather we have converted and burnt sup file already."
      ]
    },
    {
      "cell_type": "code",
      "metadata": {
        "id": "isBu8_rPffGu",
        "colab_type": "code",
        "colab": {}
      },
      "source": [
        "!python splitspeedconcatV2.py -i 12_burned.mp4 -s 12.srt -ds 1.3 -ss 3.7 --use_slower_split\n",
        "!python splitspeedconcatV2.py -i 13_burned.mp4 -s 13.srt -ds 1.3 -ss 3.7 --use_slower_split"
      ],
      "execution_count": 0,
      "outputs": []
    },
    {
      "cell_type": "markdown",
      "metadata": {
        "id": "qCJ0sJ6jS61k",
        "colab_type": "text"
      },
      "source": [
        "master cell"
      ]
    },
    {
      "cell_type": "code",
      "metadata": {
        "id": "Huwh_gi4S8ab",
        "colab_type": "code",
        "colab": {}
      },
      "source": [
        "import timeit\n",
        "start_time = timeit.default_timer()\n",
        "# !sudo apt install tesseract-ocr\n",
        "# !pip install pysrt\n",
        "# !pip install pytesseract\n",
        "# !ffmpeg -i DaredevilS01E01.mkv -map 0:2 -c:s copy \"DaredevilS01E01.sup\"\n",
        "# !ffmpeg -i DaredevilS01E01.mkv -filter_complex \"[0:v][0:s:0]overlay[v]\" -map \"[v]\" -map 0:a -vcodec libx264 -crf 27 -preset ultrafast -c:a copy DaredevilS01E01_burned.mp4\n",
        "# !python sup2srt.py DaredevilS01E01.sup\n",
        "!python splitspeedconcatV2.py -i DaredevilS01E01_burned.mp4 -s DaredevilS01E01.srt -ds 1.35 -ss 3.7 --use_slower_split\n",
        "!ffmpeg -i DaredevilS01E01_burned.mp4_output.mp4 -preset ultrafast -c:v libx265 -crf 28 -c:a aac -b:a 128k DaredevilS01E01.mkv_output_compressed.mp4\n",
        "elapsed = timeit.default_timer() - start_time\n",
        "print(f\"Completed! Whole process took {elapsed} amount of time\")"
      ],
      "execution_count": 0,
      "outputs": []
    },
    {
      "cell_type": "code",
      "metadata": {
        "id": "GUImvHI9HIM9",
        "colab_type": "code",
        "colab": {}
      },
      "source": [
        "!python splitspeedconcatV2.py -i Dragon.Ball.Super.S04E01.1080p.Blu-Ray.10-Bit.Dual-Audio.TrueHD.x265-iAHD.mkv -s Dragon.Ball.Super.S04E01.1080p.Blu-Ray.10-Bit.Dual-Audio.TrueHD.x265-iAHD.srt -ds 1.3 -ss 3.7 --use_slower_split\n",
        "!python splitspeedconcatV2.py -i Dragon.Ball.Super.S04E06.1080p.Blu-Ray.10-Bit.Dual-Audio.TrueHD.x265-iAHD.mkv -s Dragon.Ball.Super.S04E06.1080p.Blu-Ray.10-Bit.Dual-Audio.TrueHD.x265-iAHD.srt -ds 1.3 -ss 3.7 --use_slower_split"
      ],
      "execution_count": 0,
      "outputs": []
    },
    {
      "cell_type": "markdown",
      "metadata": {
        "id": "dkyVjwONR8p5",
        "colab_type": "text"
      },
      "source": [
        "mega download"
      ]
    },
    {
      "cell_type": "code",
      "metadata": {
        "id": "lDJPUvhDIwk3",
        "colab_type": "code",
        "colab": {}
      },
      "source": [
        "!pip install mega.py\n",
        "from mega import Mega\n",
        "mega = Mega()\n",
        "m = mega.login(\"atulpatildbz@gmail.com\", \"Dragonballgt@8\")\n",
        "m.get_files()"
      ],
      "execution_count": 0,
      "outputs": []
    },
    {
      "cell_type": "code",
      "metadata": {
        "id": "drarONzQJd1W",
        "colab_type": "code",
        "colab": {}
      },
      "source": [
        "import timeit\n",
        "start_time = timeit.default_timer()\n",
        "file = m.find('DaredevilS01E05.mkv')\n",
        "m.download(file)\n",
        "elapsed = timeit.default_timer() - start_time\n",
        "print(f\"Completed! took {elapsed} amount of time\")"
      ],
      "execution_count": 0,
      "outputs": []
    },
    {
      "cell_type": "markdown",
      "metadata": {
        "id": "Itn1EeQ00RE2",
        "colab_type": "text"
      },
      "source": [
        "compression"
      ]
    },
    {
      "cell_type": "code",
      "metadata": {
        "id": "v-sSPadw0Sok",
        "colab_type": "code",
        "colab": {}
      },
      "source": [
        "!ffmpeg -i S04E29.mkv_output.mp4 -preset ultrafast -c:v libx265 -crf 28 -c:a aac -b:a 128k S04E29.mkv_output_compressed.mp4\n",
        "!ffmpeg -i S04E30.mkv_output.mp4 -preset ultrafast -c:v libx265 -crf 28 -c:a aac -b:a 128k S04E30.mkv_output_compressed.mp4"
      ],
      "execution_count": 0,
      "outputs": []
    }
  ]
}